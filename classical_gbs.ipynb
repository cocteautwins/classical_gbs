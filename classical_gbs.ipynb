{
 "cells": [
  {
   "cell_type": "code",
   "execution_count": 1,
   "metadata": {},
   "outputs": [],
   "source": [
    "import numpy as np \n",
    "from strawberryfields import Program, Engine\n",
    "from strawberryfields.ops import Sgate, Interferometer\n",
    "from strawberryfields.decompositions import williamson\n",
    "from thewalrus.quantum import Amat, reduced_gaussian, Qmat\n",
    "from thewalrus import hafnian\n",
    "from thewalrus.quantum.fock_tensors import density_matrix\n",
    "from scipy.stats import unitary_group\n",
    "from scipy.special import factorial"
   ]
  },
  {
   "cell_type": "code",
   "execution_count": 2,
   "metadata": {},
   "outputs": [],
   "source": [
    "M = 20 # number of modes\n",
    "r = 0.3 # squeezing parameter\n",
    "\n",
    "U = unitary_group.rvs(M) # generate Haar random unitary"
   ]
  },
  {
   "cell_type": "code",
   "execution_count": 3,
   "metadata": {},
   "outputs": [],
   "source": [
    "#use strawberry fields to generate covariance matrix\n",
    "\n",
    "prog = Program(M)\n",
    "eng = Engine(\"gaussian\")\n",
    "\n",
    "with prog.context as q:\n",
    "    # apply squeezing to every mode\n",
    "    for mode in range(M):\n",
    "        Sgate(r) | q[mode]\n",
    "    # apply linear optical unitary\n",
    "    Interferometer(U) | q\n",
    "    \n",
    "results = eng.run(prog)\n",
    "cov = results.state.cov()\n",
    "mu = results.state.means()"
   ]
  },
  {
   "cell_type": "code",
   "execution_count": 4,
   "metadata": {
    "scrolled": true
   },
   "outputs": [
    {
     "name": "stdout",
     "output_type": "stream",
     "text": [
      "cutoff =  1, error bound = 1.633\n",
      "cutoff =  2, error bound = 0.1936\n",
      "cutoff =  3, error bound = 0.02419\n",
      "cutoff =  4, error bound = 0.003497\n",
      "cutoff =  5, error bound = 0.0005372\n",
      "cutoff =  6, error bound = 8.869e-05\n",
      "cutoff =  7, error bound = 1.527e-05\n",
      "cutoff =  8, error bound = 2.729e-06\n",
      "cutoff =  9, error bound = 5.001e-07\n"
     ]
    }
   ],
   "source": [
    "# calculate error bounds as a function of the cutoff \n",
    "# error measured by total variation distance to true distribution\n",
    "# (borrowing code from https://github.com/XanaduAI/thewalrus/blob/8e856d1139b4b6427f3f1112e39db1aaca244b61/thewalrus/quantum/fock_tensors.py#L605)\n",
    "max_cutoff = 8\n",
    "bounds = np.zeros([max_cutoff+1])\n",
    "for i in range(M):\n",
    "    mu_red, cov_red = reduced_gaussian(mu, cov, [i])\n",
    "    ps = np.real_if_close(np.diag(density_matrix(mu_red, cov_red, cutoff=max_cutoff+1)))\n",
    "    bounds += 1 - np.cumsum(ps)\n",
    "    \n",
    "for i in range(max_cutoff+1):\n",
    "    print(f'cutoff = {i+1:2d}, error bound = {bounds[i]:2.4}')"
   ]
  },
  {
   "cell_type": "code",
   "execution_count": 5,
   "metadata": {},
   "outputs": [],
   "source": [
    "cutoff = 4 # seems like a fairly safe choice"
   ]
  },
  {
   "cell_type": "code",
   "execution_count": 6,
   "metadata": {},
   "outputs": [
    {
     "name": "stdout",
     "output_type": "stream",
     "text": [
      "00003000031000000001 - done\n"
     ]
    }
   ],
   "source": [
    "# sample a photon number basis measurement from the state\n",
    "\n",
    "s = []\n",
    "detector_outcomes = []\n",
    "rng = np.random.default_rng() # choose a psuedo-RNG to use\n",
    "for mode in range(M):\n",
    "    m = mode + 1 #number of modes needed for sample\n",
    "    # find covariance of reduced state\n",
    "    reduced_mu, reduced_cov = reduced_gaussian(cov=cov, mu=mu, modes=np.arange(m))\n",
    "    # split into pure and classical parts\n",
    "    D, S = williamson(reduced_cov) # cov = S @ D @ S.T\n",
    "    T = S @ S.T\n",
    "    W = S @ (D - np.eye(2 * m)) @ S.T\n",
    "    # sample a vector from the classical state\n",
    "    R = rng.multivariate_normal(reduced_mu, W)\n",
    "    #construct B matrix\n",
    "    q, p = R[:m], R[m:]\n",
    "    alpha = np.concatenate([q + 1j * p, q - 1j * p])\n",
    "    gamma = np.linalg.inv(Qmat(T)) @ alpha\n",
    "    A = Amat(T)\n",
    "    B = A[:m, :m]\n",
    "    B[np.diag_indices(m)] = gamma[:m]\n",
    "    \n",
    "    prob_n = np.zeros(cutoff)\n",
    "    for n in range(cutoff):\n",
    "        repeats = s + [mode] * n\n",
    "        B_s = B[np.ix_(repeats, repeats)]\n",
    "        # find probability using the hafnian\n",
    "        # we don't need the full normalisation term as we can just normalise afterwards\n",
    "        prob_n[n] = abs(hafnian(B_s, loop=True))**2 / factorial(n) \n",
    "    # normalise the probabilities\n",
    "    prob_n /= prob_n.sum()\n",
    "    # sample\n",
    "    outcome = rng.choice(range(cutoff), p=prob_n)\n",
    "    # store and print results\n",
    "    detector_outcomes.append(outcome)\n",
    "    s += [mode] * outcome\n",
    "    print(outcome, end='')\n",
    "print(' - done')"
   ]
  },
  {
   "cell_type": "code",
   "execution_count": null,
   "metadata": {},
   "outputs": [],
   "source": []
  }
 ],
 "metadata": {
  "kernelspec": {
   "display_name": "Python 3",
   "language": "python",
   "name": "python3"
  },
  "language_info": {
   "codemirror_mode": {
    "name": "ipython",
    "version": 3
   },
   "file_extension": ".py",
   "mimetype": "text/x-python",
   "name": "python",
   "nbconvert_exporter": "python",
   "pygments_lexer": "ipython3",
   "version": "3.7.3"
  }
 },
 "nbformat": 4,
 "nbformat_minor": 4
}
